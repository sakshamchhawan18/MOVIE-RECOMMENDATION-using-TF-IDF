{
 "cells": [
  {
   "cell_type": "markdown",
   "id": "1f34231b-2e94-4865-8944-aadde172fc9f",
   "metadata": {},
   "source": [
    "### Movie Recommendation (2024) using TF-IDF"
   ]
  },
  {
   "cell_type": "markdown",
   "id": "0d5d74aa-cb94-4839-a9b2-e7a6be9f91f3",
   "metadata": {},
   "source": [
    "### Importing libraries :"
   ]
  },
  {
   "cell_type": "code",
   "execution_count": 1,
   "id": "9401b843-4d43-4d72-acd6-ce1c2fd95b84",
   "metadata": {
    "tags": []
   },
   "outputs": [],
   "source": [
    "import numpy as np\n",
    "import pandas as pd\n",
    "import json\n",
    "import matplotlib.pyplot as plt\n",
    "import os \n",
    "from zipfile import ZipFile \n",
    "from sklearn.feature_extraction.text import TfidfVectorizer\n",
    "from sklearn.metrics.pairwise import cosine_similarity, euclidean_distances\n",
    "import pickle"
   ]
  },
  {
   "cell_type": "code",
   "execution_count": 2,
   "id": "7d0a91a8-5b1b-4bc7-8b6d-0a53af28cfb0",
   "metadata": {
    "tags": []
   },
   "outputs": [],
   "source": [
    "pd.set_option('display.max_rows', 100)\n",
    "pd.set_option('display.max_columns',100)"
   ]
  },
  {
   "cell_type": "markdown",
   "id": "c824de32-adc1-48d8-ba11-86731731eff4",
   "metadata": {},
   "source": [
    "### Downloading the dataset (re-run to download latest dataset) :"
   ]
  },
  {
   "cell_type": "code",
   "execution_count": 3,
   "id": "868bbff1-0a7c-40ed-b2a7-764baf609554",
   "metadata": {},
   "outputs": [],
   "source": [
    "#!kaggle datasets download -d asaniczka/tmdb-movies-dataset-2023-930k-movies"
   ]
  },
  {
   "cell_type": "markdown",
   "id": "4572c65e-4f9f-4e48-9e96-bb1b9881af48",
   "metadata": {},
   "source": [
    "### Extract the dataset files :"
   ]
  },
  {
   "cell_type": "code",
   "execution_count": 4,
   "id": "20a90192-f3c0-41f4-a89e-ae61ec170aeb",
   "metadata": {},
   "outputs": [
    {
     "ename": "PermissionError",
     "evalue": "[Errno 13] Permission denied: 'C:\\\\Users\\\\KIIT\\\\Downloads\\\\TMDB_movie_dataset_v11.csv'",
     "output_type": "error",
     "traceback": [
      "\u001b[1;31m---------------------------------------------------------------------------\u001b[0m",
      "\u001b[1;31mPermissionError\u001b[0m                           Traceback (most recent call last)",
      "Cell \u001b[1;32mIn[4], line 6\u001b[0m\n\u001b[0;32m      1\u001b[0m \u001b[38;5;66;03m# loading the temp.zip and creating a zip object \u001b[39;00m\n\u001b[0;32m      2\u001b[0m \u001b[38;5;28;01mwith\u001b[39;00m ZipFile(\u001b[38;5;124m\"\u001b[39m\u001b[38;5;124mmadhurima.zip\u001b[39m\u001b[38;5;124m\"\u001b[39m, \u001b[38;5;124m'\u001b[39m\u001b[38;5;124mr\u001b[39m\u001b[38;5;124m'\u001b[39m) \u001b[38;5;28;01mas\u001b[39;00m zObject: \n\u001b[0;32m      3\u001b[0m   \n\u001b[0;32m      4\u001b[0m     \u001b[38;5;66;03m# Extracting all the members of the zip  \u001b[39;00m\n\u001b[0;32m      5\u001b[0m     \u001b[38;5;66;03m# into a specific location. \u001b[39;00m\n\u001b[1;32m----> 6\u001b[0m     zObject\u001b[38;5;241m.\u001b[39mextractall()\n",
      "File \u001b[1;32m~\\anaconda3\\Lib\\zipfile.py:1681\u001b[0m, in \u001b[0;36mZipFile.extractall\u001b[1;34m(self, path, members, pwd)\u001b[0m\n\u001b[0;32m   1678\u001b[0m     path \u001b[38;5;241m=\u001b[39m os\u001b[38;5;241m.\u001b[39mfspath(path)\n\u001b[0;32m   1680\u001b[0m \u001b[38;5;28;01mfor\u001b[39;00m zipinfo \u001b[38;5;129;01min\u001b[39;00m members:\n\u001b[1;32m-> 1681\u001b[0m     \u001b[38;5;28mself\u001b[39m\u001b[38;5;241m.\u001b[39m_extract_member(zipinfo, path, pwd)\n",
      "File \u001b[1;32m~\\anaconda3\\Lib\\zipfile.py:1735\u001b[0m, in \u001b[0;36mZipFile._extract_member\u001b[1;34m(self, member, targetpath, pwd)\u001b[0m\n\u001b[0;32m   1731\u001b[0m         os\u001b[38;5;241m.\u001b[39mmkdir(targetpath)\n\u001b[0;32m   1732\u001b[0m     \u001b[38;5;28;01mreturn\u001b[39;00m targetpath\n\u001b[0;32m   1734\u001b[0m \u001b[38;5;28;01mwith\u001b[39;00m \u001b[38;5;28mself\u001b[39m\u001b[38;5;241m.\u001b[39mopen(member, pwd\u001b[38;5;241m=\u001b[39mpwd) \u001b[38;5;28;01mas\u001b[39;00m source, \\\n\u001b[1;32m-> 1735\u001b[0m      \u001b[38;5;28mopen\u001b[39m(targetpath, \u001b[38;5;124m\"\u001b[39m\u001b[38;5;124mwb\u001b[39m\u001b[38;5;124m\"\u001b[39m) \u001b[38;5;28;01mas\u001b[39;00m target:\n\u001b[0;32m   1736\u001b[0m     shutil\u001b[38;5;241m.\u001b[39mcopyfileobj(source, target)\n\u001b[0;32m   1738\u001b[0m \u001b[38;5;28;01mreturn\u001b[39;00m targetpath\n",
      "\u001b[1;31mPermissionError\u001b[0m: [Errno 13] Permission denied: 'C:\\\\Users\\\\KIIT\\\\Downloads\\\\TMDB_movie_dataset_v11.csv'"
     ]
    }
   ],
   "source": [
    "# loading the temp.zip and creating a zip object \n",
    "with ZipFile(\"madhurima.zip\", 'r') as zObject: \n",
    "  \n",
    "    # Extracting all the members of the zip  \n",
    "    # into a specific location. \n",
    "    zObject.extractall() "
   ]
  },
  {
   "cell_type": "markdown",
   "id": "22dfe21e-f065-497c-ab15-c637ea6c4ca1",
   "metadata": {},
   "source": [
    "### Loading the dataset :"
   ]
  },
  {
   "cell_type": "code",
   "execution_count": 5,
   "id": "9912856f-da6e-46ba-af8d-e0926e8ab561",
   "metadata": {
    "tags": []
   },
   "outputs": [],
   "source": [
    "moviedata=pd.read_csv('TMDB_movie_dataset_v11.csv')"
   ]
  },
  {
   "cell_type": "markdown",
   "id": "181fb370-7878-4ef1-acb2-bb18e3a5a54e",
   "metadata": {},
   "source": [
    "### Checking first five rows of the dataset :"
   ]
  },
  {
   "cell_type": "code",
   "execution_count": 6,
   "id": "8f2e43d1-7b84-424a-a4a7-615d33623e26",
   "metadata": {
    "tags": []
   },
   "outputs": [
    {
     "data": {
      "text/html": [
       "<div>\n",
       "<style scoped>\n",
       "    .dataframe tbody tr th:only-of-type {\n",
       "        vertical-align: middle;\n",
       "    }\n",
       "\n",
       "    .dataframe tbody tr th {\n",
       "        vertical-align: top;\n",
       "    }\n",
       "\n",
       "    .dataframe thead th {\n",
       "        text-align: right;\n",
       "    }\n",
       "</style>\n",
       "<table border=\"1\" class=\"dataframe\">\n",
       "  <thead>\n",
       "    <tr style=\"text-align: right;\">\n",
       "      <th></th>\n",
       "      <th>id</th>\n",
       "      <th>title</th>\n",
       "      <th>vote_average</th>\n",
       "      <th>vote_count</th>\n",
       "      <th>status</th>\n",
       "      <th>release_date</th>\n",
       "      <th>revenue</th>\n",
       "      <th>runtime</th>\n",
       "      <th>adult</th>\n",
       "      <th>backdrop_path</th>\n",
       "      <th>budget</th>\n",
       "      <th>homepage</th>\n",
       "      <th>imdb_id</th>\n",
       "      <th>original_language</th>\n",
       "      <th>original_title</th>\n",
       "      <th>overview</th>\n",
       "      <th>popularity</th>\n",
       "      <th>poster_path</th>\n",
       "      <th>tagline</th>\n",
       "      <th>genres</th>\n",
       "      <th>production_companies</th>\n",
       "      <th>production_countries</th>\n",
       "      <th>spoken_languages</th>\n",
       "      <th>keywords</th>\n",
       "    </tr>\n",
       "  </thead>\n",
       "  <tbody>\n",
       "    <tr>\n",
       "      <th>0</th>\n",
       "      <td>27205</td>\n",
       "      <td>Inception</td>\n",
       "      <td>8.364</td>\n",
       "      <td>34495</td>\n",
       "      <td>Released</td>\n",
       "      <td>2010-07-15</td>\n",
       "      <td>825532764</td>\n",
       "      <td>148</td>\n",
       "      <td>False</td>\n",
       "      <td>/8ZTVqvKDQ8emSGUEMjsS4yHAwrp.jpg</td>\n",
       "      <td>160000000</td>\n",
       "      <td>https://www.warnerbros.com/movies/inception</td>\n",
       "      <td>tt1375666</td>\n",
       "      <td>en</td>\n",
       "      <td>Inception</td>\n",
       "      <td>Cobb, a skilled thief who commits corporate es...</td>\n",
       "      <td>83.952</td>\n",
       "      <td>/oYuLEt3zVCKq57qu2F8dT7NIa6f.jpg</td>\n",
       "      <td>Your mind is the scene of the crime.</td>\n",
       "      <td>Action, Science Fiction, Adventure</td>\n",
       "      <td>Legendary Pictures, Syncopy, Warner Bros. Pict...</td>\n",
       "      <td>United Kingdom, United States of America</td>\n",
       "      <td>English, French, Japanese, Swahili</td>\n",
       "      <td>rescue, mission, dream, airplane, paris, franc...</td>\n",
       "    </tr>\n",
       "    <tr>\n",
       "      <th>1</th>\n",
       "      <td>157336</td>\n",
       "      <td>Interstellar</td>\n",
       "      <td>8.417</td>\n",
       "      <td>32571</td>\n",
       "      <td>Released</td>\n",
       "      <td>2014-11-05</td>\n",
       "      <td>701729206</td>\n",
       "      <td>169</td>\n",
       "      <td>False</td>\n",
       "      <td>/pbrkL804c8yAv3zBZR4QPEafpAR.jpg</td>\n",
       "      <td>165000000</td>\n",
       "      <td>http://www.interstellarmovie.net/</td>\n",
       "      <td>tt0816692</td>\n",
       "      <td>en</td>\n",
       "      <td>Interstellar</td>\n",
       "      <td>The adventures of a group of explorers who mak...</td>\n",
       "      <td>140.241</td>\n",
       "      <td>/gEU2QniE6E77NI6lCU6MxlNBvIx.jpg</td>\n",
       "      <td>Mankind was born on Earth. It was never meant ...</td>\n",
       "      <td>Adventure, Drama, Science Fiction</td>\n",
       "      <td>Legendary Pictures, Syncopy, Lynda Obst Produc...</td>\n",
       "      <td>United Kingdom, United States of America</td>\n",
       "      <td>English</td>\n",
       "      <td>rescue, future, spacecraft, race against time,...</td>\n",
       "    </tr>\n",
       "    <tr>\n",
       "      <th>2</th>\n",
       "      <td>155</td>\n",
       "      <td>The Dark Knight</td>\n",
       "      <td>8.512</td>\n",
       "      <td>30619</td>\n",
       "      <td>Released</td>\n",
       "      <td>2008-07-16</td>\n",
       "      <td>1004558444</td>\n",
       "      <td>152</td>\n",
       "      <td>False</td>\n",
       "      <td>/nMKdUUepR0i5zn0y1T4CsSB5chy.jpg</td>\n",
       "      <td>185000000</td>\n",
       "      <td>https://www.warnerbros.com/movies/dark-knight/</td>\n",
       "      <td>tt0468569</td>\n",
       "      <td>en</td>\n",
       "      <td>The Dark Knight</td>\n",
       "      <td>Batman raises the stakes in his war on crime. ...</td>\n",
       "      <td>130.643</td>\n",
       "      <td>/qJ2tW6WMUDux911r6m7haRef0WH.jpg</td>\n",
       "      <td>Welcome to a world without rules.</td>\n",
       "      <td>Drama, Action, Crime, Thriller</td>\n",
       "      <td>DC Comics, Legendary Pictures, Syncopy, Isobel...</td>\n",
       "      <td>United Kingdom, United States of America</td>\n",
       "      <td>English, Mandarin</td>\n",
       "      <td>joker, sadism, chaos, secret identity, crime f...</td>\n",
       "    </tr>\n",
       "    <tr>\n",
       "      <th>3</th>\n",
       "      <td>19995</td>\n",
       "      <td>Avatar</td>\n",
       "      <td>7.573</td>\n",
       "      <td>29815</td>\n",
       "      <td>Released</td>\n",
       "      <td>2009-12-15</td>\n",
       "      <td>2923706026</td>\n",
       "      <td>162</td>\n",
       "      <td>False</td>\n",
       "      <td>/vL5LR6WdxWPjLPFRLe133jXWsh5.jpg</td>\n",
       "      <td>237000000</td>\n",
       "      <td>https://www.avatar.com/movies/avatar</td>\n",
       "      <td>tt0499549</td>\n",
       "      <td>en</td>\n",
       "      <td>Avatar</td>\n",
       "      <td>In the 22nd century, a paraplegic Marine is di...</td>\n",
       "      <td>79.932</td>\n",
       "      <td>/kyeqWdyUXW608qlYkRqosgbbJyK.jpg</td>\n",
       "      <td>Enter the world of Pandora.</td>\n",
       "      <td>Action, Adventure, Fantasy, Science Fiction</td>\n",
       "      <td>Dune Entertainment, Lightstorm Entertainment, ...</td>\n",
       "      <td>United States of America, United Kingdom</td>\n",
       "      <td>English, Spanish</td>\n",
       "      <td>future, society, culture clash, space travel, ...</td>\n",
       "    </tr>\n",
       "    <tr>\n",
       "      <th>4</th>\n",
       "      <td>24428</td>\n",
       "      <td>The Avengers</td>\n",
       "      <td>7.710</td>\n",
       "      <td>29166</td>\n",
       "      <td>Released</td>\n",
       "      <td>2012-04-25</td>\n",
       "      <td>1518815515</td>\n",
       "      <td>143</td>\n",
       "      <td>False</td>\n",
       "      <td>/9BBTo63ANSmhC4e6r62OJFuK2GL.jpg</td>\n",
       "      <td>220000000</td>\n",
       "      <td>https://www.marvel.com/movies/the-avengers</td>\n",
       "      <td>tt0848228</td>\n",
       "      <td>en</td>\n",
       "      <td>The Avengers</td>\n",
       "      <td>When an unexpected enemy emerges and threatens...</td>\n",
       "      <td>98.082</td>\n",
       "      <td>/RYMX2wcKCBAr24UyPD7xwmjaTn.jpg</td>\n",
       "      <td>Some assembly required.</td>\n",
       "      <td>Science Fiction, Action, Adventure</td>\n",
       "      <td>Marvel Studios</td>\n",
       "      <td>United States of America</td>\n",
       "      <td>English, Hindi, Russian</td>\n",
       "      <td>new york city, superhero, shield, based on com...</td>\n",
       "    </tr>\n",
       "  </tbody>\n",
       "</table>\n",
       "</div>"
      ],
      "text/plain": [
       "       id            title  vote_average  vote_count    status release_date  \\\n",
       "0   27205        Inception         8.364       34495  Released   2010-07-15   \n",
       "1  157336     Interstellar         8.417       32571  Released   2014-11-05   \n",
       "2     155  The Dark Knight         8.512       30619  Released   2008-07-16   \n",
       "3   19995           Avatar         7.573       29815  Released   2009-12-15   \n",
       "4   24428     The Avengers         7.710       29166  Released   2012-04-25   \n",
       "\n",
       "      revenue  runtime  adult                     backdrop_path     budget  \\\n",
       "0   825532764      148  False  /8ZTVqvKDQ8emSGUEMjsS4yHAwrp.jpg  160000000   \n",
       "1   701729206      169  False  /pbrkL804c8yAv3zBZR4QPEafpAR.jpg  165000000   \n",
       "2  1004558444      152  False  /nMKdUUepR0i5zn0y1T4CsSB5chy.jpg  185000000   \n",
       "3  2923706026      162  False  /vL5LR6WdxWPjLPFRLe133jXWsh5.jpg  237000000   \n",
       "4  1518815515      143  False  /9BBTo63ANSmhC4e6r62OJFuK2GL.jpg  220000000   \n",
       "\n",
       "                                         homepage    imdb_id  \\\n",
       "0     https://www.warnerbros.com/movies/inception  tt1375666   \n",
       "1               http://www.interstellarmovie.net/  tt0816692   \n",
       "2  https://www.warnerbros.com/movies/dark-knight/  tt0468569   \n",
       "3            https://www.avatar.com/movies/avatar  tt0499549   \n",
       "4      https://www.marvel.com/movies/the-avengers  tt0848228   \n",
       "\n",
       "  original_language   original_title  \\\n",
       "0                en        Inception   \n",
       "1                en     Interstellar   \n",
       "2                en  The Dark Knight   \n",
       "3                en           Avatar   \n",
       "4                en     The Avengers   \n",
       "\n",
       "                                            overview  popularity  \\\n",
       "0  Cobb, a skilled thief who commits corporate es...      83.952   \n",
       "1  The adventures of a group of explorers who mak...     140.241   \n",
       "2  Batman raises the stakes in his war on crime. ...     130.643   \n",
       "3  In the 22nd century, a paraplegic Marine is di...      79.932   \n",
       "4  When an unexpected enemy emerges and threatens...      98.082   \n",
       "\n",
       "                        poster_path  \\\n",
       "0  /oYuLEt3zVCKq57qu2F8dT7NIa6f.jpg   \n",
       "1  /gEU2QniE6E77NI6lCU6MxlNBvIx.jpg   \n",
       "2  /qJ2tW6WMUDux911r6m7haRef0WH.jpg   \n",
       "3  /kyeqWdyUXW608qlYkRqosgbbJyK.jpg   \n",
       "4   /RYMX2wcKCBAr24UyPD7xwmjaTn.jpg   \n",
       "\n",
       "                                             tagline  \\\n",
       "0               Your mind is the scene of the crime.   \n",
       "1  Mankind was born on Earth. It was never meant ...   \n",
       "2                  Welcome to a world without rules.   \n",
       "3                        Enter the world of Pandora.   \n",
       "4                            Some assembly required.   \n",
       "\n",
       "                                        genres  \\\n",
       "0           Action, Science Fiction, Adventure   \n",
       "1            Adventure, Drama, Science Fiction   \n",
       "2               Drama, Action, Crime, Thriller   \n",
       "3  Action, Adventure, Fantasy, Science Fiction   \n",
       "4           Science Fiction, Action, Adventure   \n",
       "\n",
       "                                production_companies  \\\n",
       "0  Legendary Pictures, Syncopy, Warner Bros. Pict...   \n",
       "1  Legendary Pictures, Syncopy, Lynda Obst Produc...   \n",
       "2  DC Comics, Legendary Pictures, Syncopy, Isobel...   \n",
       "3  Dune Entertainment, Lightstorm Entertainment, ...   \n",
       "4                                     Marvel Studios   \n",
       "\n",
       "                       production_countries  \\\n",
       "0  United Kingdom, United States of America   \n",
       "1  United Kingdom, United States of America   \n",
       "2  United Kingdom, United States of America   \n",
       "3  United States of America, United Kingdom   \n",
       "4                  United States of America   \n",
       "\n",
       "                     spoken_languages  \\\n",
       "0  English, French, Japanese, Swahili   \n",
       "1                             English   \n",
       "2                   English, Mandarin   \n",
       "3                    English, Spanish   \n",
       "4             English, Hindi, Russian   \n",
       "\n",
       "                                            keywords  \n",
       "0  rescue, mission, dream, airplane, paris, franc...  \n",
       "1  rescue, future, spacecraft, race against time,...  \n",
       "2  joker, sadism, chaos, secret identity, crime f...  \n",
       "3  future, society, culture clash, space travel, ...  \n",
       "4  new york city, superhero, shield, based on com...  "
      ]
     },
     "execution_count": 6,
     "metadata": {},
     "output_type": "execute_result"
    }
   ],
   "source": [
    "moviedata.head(5)"
   ]
  },
  {
   "cell_type": "markdown",
   "id": "77bdde40-9f5c-42b9-b229-1bf170e1b26f",
   "metadata": {},
   "source": [
    "### Data types :"
   ]
  },
  {
   "cell_type": "code",
   "execution_count": 7,
   "id": "6b6361d7-a632-4d39-ac97-fe0a1d720580",
   "metadata": {
    "tags": []
   },
   "outputs": [
    {
     "data": {
      "text/plain": [
       "id                        int64\n",
       "title                    object\n",
       "vote_average            float64\n",
       "vote_count                int64\n",
       "status                   object\n",
       "release_date             object\n",
       "revenue                   int64\n",
       "runtime                   int64\n",
       "adult                      bool\n",
       "backdrop_path            object\n",
       "budget                    int64\n",
       "homepage                 object\n",
       "imdb_id                  object\n",
       "original_language        object\n",
       "original_title           object\n",
       "overview                 object\n",
       "popularity              float64\n",
       "poster_path              object\n",
       "tagline                  object\n",
       "genres                   object\n",
       "production_companies     object\n",
       "production_countries     object\n",
       "spoken_languages         object\n",
       "keywords                 object\n",
       "dtype: object"
      ]
     },
     "execution_count": 7,
     "metadata": {},
     "output_type": "execute_result"
    }
   ],
   "source": [
    "moviedata.dtypes"
   ]
  },
  {
   "cell_type": "markdown",
   "id": "874be47c-0965-4189-ac47-fa86f3c7b9c0",
   "metadata": {},
   "source": [
    "### Checking one single row of dataset :"
   ]
  },
  {
   "cell_type": "code",
   "execution_count": 8,
   "id": "e21090f3-d296-457d-8cfc-9db321a4ddc8",
   "metadata": {
    "tags": []
   },
   "outputs": [
    {
     "data": {
      "text/plain": [
       "id                                                                  27205\n",
       "title                                                           Inception\n",
       "vote_average                                                        8.364\n",
       "vote_count                                                          34495\n",
       "status                                                           Released\n",
       "release_date                                                   2010-07-15\n",
       "revenue                                                         825532764\n",
       "runtime                                                               148\n",
       "adult                                                               False\n",
       "backdrop_path                            /8ZTVqvKDQ8emSGUEMjsS4yHAwrp.jpg\n",
       "budget                                                          160000000\n",
       "homepage                      https://www.warnerbros.com/movies/inception\n",
       "imdb_id                                                         tt1375666\n",
       "original_language                                                      en\n",
       "original_title                                                  Inception\n",
       "overview                Cobb, a skilled thief who commits corporate es...\n",
       "popularity                                                         83.952\n",
       "poster_path                              /oYuLEt3zVCKq57qu2F8dT7NIa6f.jpg\n",
       "tagline                              Your mind is the scene of the crime.\n",
       "genres                                 Action, Science Fiction, Adventure\n",
       "production_companies    Legendary Pictures, Syncopy, Warner Bros. Pict...\n",
       "production_countries             United Kingdom, United States of America\n",
       "spoken_languages                       English, French, Japanese, Swahili\n",
       "keywords                rescue, mission, dream, airplane, paris, franc...\n",
       "Name: 0, dtype: object"
      ]
     },
     "execution_count": 8,
     "metadata": {},
     "output_type": "execute_result"
    }
   ],
   "source": [
    "row1=moviedata.iloc[0]\n",
    "row1"
   ]
  },
  {
   "cell_type": "markdown",
   "id": "b1510639-717d-4eb4-95f7-0a17c61325ed",
   "metadata": {},
   "source": [
    "### Making a single column 'keys' combining all essential columns :"
   ]
  },
  {
   "cell_type": "code",
   "execution_count": 9,
   "id": "9b815ab9-77ce-48eb-ae4d-3117f4b8b34d",
   "metadata": {
    "tags": []
   },
   "outputs": [],
   "source": [
    "moviedata['tags'] = moviedata['title'] + ' ' + moviedata['genres'] + moviedata['overview'] + moviedata['original_title'] + moviedata['keywords']"
   ]
  },
  {
   "cell_type": "markdown",
   "id": "fff2d19c-8fce-428e-8124-e84640c6019a",
   "metadata": {},
   "source": [
    "### Generate a mapping FOR each movie title to its index in the dataframe :"
   ]
  },
  {
   "cell_type": "code",
   "execution_count": 10,
   "id": "f1878b3f-12c6-4fc1-8d09-7af46a290375",
   "metadata": {
    "tags": []
   },
   "outputs": [],
   "source": [
    "movie2idx=pd.Series(moviedata.index,index=moviedata['title'])"
   ]
  },
  {
   "cell_type": "code",
   "execution_count": 11,
   "id": "d4292d6e-7a5b-468d-9040-b484967eafde",
   "metadata": {
    "tags": []
   },
   "outputs": [],
   "source": [
    "def find_index(name):\n",
    "    return movie2idx[name]"
   ]
  },
  {
   "cell_type": "markdown",
   "id": "a475dab2-4e3c-49b2-afe1-4b30e8c6ea27",
   "metadata": {},
   "source": [
    "### Instantiating TF-IDF Vectorizer :"
   ]
  },
  {
   "cell_type": "code",
   "execution_count": 12,
   "id": "9da46b29-b62a-49cd-9f0f-7a979cd796e9",
   "metadata": {
    "tags": []
   },
   "outputs": [],
   "source": [
    "tfvectorizer=TfidfVectorizer(max_features=6000)"
   ]
  },
  {
   "cell_type": "markdown",
   "id": "17fc7a44-dbca-4dfa-a552-80a879a671e3",
   "metadata": {},
   "source": [
    "### Fitting TF-IDF Vectorizer on dataset :"
   ]
  },
  {
   "cell_type": "code",
   "execution_count": 16,
   "id": "eb3d9c5e-4c87-4cd3-9ede-84bdc45050d2",
   "metadata": {
    "tags": []
   },
   "outputs": [],
   "source": [
    "M1 = tfvectorizer.fit_transform(moviedata['tags'].values.astype('U'))"
   ]
  },
  {
   "cell_type": "markdown",
   "id": "7712687d-a9ef-4337-82a0-7029f7d8e03e",
   "metadata": {},
   "source": [
    "### Storing the fitted TF-IDF vectorizer model to a file using pickle"
   ]
  },
  {
   "cell_type": "code",
   "execution_count": 17,
   "id": "0365cd27-95a7-47da-bcf8-5bdd576804aa",
   "metadata": {
    "tags": []
   },
   "outputs": [],
   "source": [
    "with open('M1.pkl', 'wb') as f:\n",
    "    pickle.dump(M1, f)"
   ]
  },
  {
   "cell_type": "markdown",
   "id": "60aa37a6-4129-4468-a789-6cb637b73000",
   "metadata": {},
   "source": [
    "### Loading the model :"
   ]
  },
  {
   "cell_type": "code",
   "execution_count": 18,
   "id": "ed2bd994-aab1-4741-9ce5-b865734b6569",
   "metadata": {
    "tags": []
   },
   "outputs": [],
   "source": [
    "with open('M1.pkl', 'rb') as f:\n",
    "    loaded_vectorizer = pickle.load(f)"
   ]
  },
  {
   "cell_type": "markdown",
   "id": "b6a38f21-8f2b-45cc-9f71-709c54b12a08",
   "metadata": {},
   "source": [
    "### Function to get top 5 recommendations for a given movie :"
   ]
  },
  {
   "cell_type": "code",
   "execution_count": 19,
   "id": "3c00caea-dd2c-4a8f-bc18-5ca37da3df68",
   "metadata": {
    "tags": []
   },
   "outputs": [],
   "source": [
    "def get_recommendations(model,movie):\n",
    "    idX=find_index(movie)\n",
    "    if type(idX) == pd.Series:\n",
    "        idX=idX.iloc[0]\n",
    "    result= (-(cosine_similarity(model[idX],model).flatten())).argsort()[1:6]\n",
    "    print(moviedata['title'].iloc[result])"
   ]
  },
  {
   "cell_type": "markdown",
   "id": "1510b56b-5f92-4ffa-952d-9fcee7425e75",
   "metadata": {},
   "source": [
    "### Example :"
   ]
  },
  {
   "cell_type": "code",
   "execution_count": 20,
   "id": "fbf5d5fe-5d64-470d-b7f4-3d672763698c",
   "metadata": {
    "tags": []
   },
   "outputs": [
    {
     "name": "stdout",
     "output_type": "stream",
     "text": [
      "333       Toy Story 4\n",
      "159       Toy Story 2\n",
      "364478    Toy Story 5\n",
      "138       Toy Story 3\n",
      "322191       Toy Time\n",
      "Name: title, dtype: object\n"
     ]
    }
   ],
   "source": [
    "get_recommendations(loaded_vectorizer,'Toy Story')"
   ]
  },
  {
   "cell_type": "code",
   "execution_count": null,
   "id": "86fa5624",
   "metadata": {},
   "outputs": [],
   "source": []
  }
 ],
 "metadata": {
  "kernelspec": {
   "display_name": "Python 3 (ipykernel)",
   "language": "python",
   "name": "python3"
  },
  "language_info": {
   "codemirror_mode": {
    "name": "ipython",
    "version": 3
   },
   "file_extension": ".py",
   "mimetype": "text/x-python",
   "name": "python",
   "nbconvert_exporter": "python",
   "pygments_lexer": "ipython3",
   "version": "3.11.5"
  }
 },
 "nbformat": 4,
 "nbformat_minor": 5
}
